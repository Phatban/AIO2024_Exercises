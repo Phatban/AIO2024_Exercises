{
  "cells": [
    {
      "cell_type": "markdown",
      "metadata": {
        "id": "TnRt8Fw03OwH"
      },
      "source": [
        "## **Linear Regression - Exercises**\n",
        "*Ngày 28 tháng 9 năm 2024*"
      ]
    },
    {
      "cell_type": "markdown",
      "metadata": {
        "id": "VMMmCmeDtK6G"
      },
      "source": [
        "### **Exercise 1: Reading and Processing Data**"
      ]
    },
    {
      "cell_type": "code",
      "execution_count": 1,
      "metadata": {
        "id": "1IHuBWgTvyaq"
      },
      "outputs": [],
      "source": [
        "# dataset\n",
        "import numpy as np\n",
        "import pandas as pd\n",
        "import matplotlib.pyplot as plt\n",
        "import random"
      ]
    },
    {
      "cell_type": "code",
      "execution_count": 2,
      "metadata": {
        "id": "I0Ni-CrPtRqz"
      },
      "outputs": [],
      "source": [
        "def get_column(data, index):\n",
        "    return [row[index] for row in data]\n",
        "\n",
        "def prepare_data(file_name_dataset):\n",
        "    data = np.genfromtxt(file_name_dataset, delimiter=',', skip_header=1).tolist()\n",
        "    N = len(data)\n",
        "\n",
        "    # get tv (index=0)\n",
        "    tv_data = get_column(data, 0)\n",
        "\n",
        "    # get radio (index=1)\n",
        "    radio_data = get_column(data, 1)\n",
        "\n",
        "    # get newspaper (index=2)\n",
        "    newspaper_data = get_column(data, 2)\n",
        "\n",
        "    # get sales (index=3)\n",
        "    sales_data = get_column(data, 3)\n",
        "\n",
        "    # building X input  and y output for training\n",
        "    X = [tv_data, radio_data, newspaper_data]\n",
        "    y = sales_data\n",
        "    return X,y"
      ]
    },
    {
      "cell_type": "code",
      "execution_count": 3,
      "metadata": {
        "colab": {
          "base_uri": "https://localhost:8080/"
        },
        "id": "mPV2yRw_wz57",
        "outputId": "92f8e9a5-42a2-4b81-a800-b481f5454659"
      },
      "outputs": [
        {
          "name": "stdout",
          "output_type": "stream",
          "text": [
            "[624.1, 175.1, 300.5, 78.9]\n"
          ]
        }
      ],
      "source": [
        "#Multiple choices:\n",
        "#Question 1:\n",
        "X,y = prepare_data('advertising.csv')\n",
        "list = [sum(X[0][:5]), sum(X[1][:5]), sum(X[2][:5]), sum(y[:5])]\n",
        "print(list)"
      ]
    },
    {
      "cell_type": "markdown",
      "metadata": {
        "id": "GjfOqBWP3gR_"
      },
      "source": [
        "### **Exercise 2: Training Linear Regression with One Sample**"
      ]
    },
    {
      "cell_type": "markdown",
      "metadata": {
        "id": "IjNeK-bO3lMh"
      },
      "source": [
        "#### *2.1 Parameter Initialization*"
      ]
    },
    {
      "cell_type": "code",
      "execution_count": 4,
      "metadata": {
        "id": "NyAQ-gZk30u1"
      },
      "outputs": [],
      "source": [
        "def initialize_params():\n",
        "    # w1 = random.gauss(mu=0.0, sigma=0.01)\n",
        "    # w2 = random.gauss(mu=0.0, sigma=0.01)\n",
        "    # w3 = random.gauss(mu=0.0, sigma=0.01)\n",
        "    # b  = 0\n",
        "\n",
        "    w1, w2, w3, b = (0.016992259082509283, 0.0070783670518262355, -0.002307860847821344, 0)\n",
        "    return w1, w2, w3, b"
      ]
    },
    {
      "cell_type": "markdown",
      "metadata": {
        "id": "bhiJ2pCW4R3_"
      },
      "source": [
        "#### *2.2 Prediction Function*"
      ]
    },
    {
      "cell_type": "code",
      "execution_count": 5,
      "metadata": {
        "id": "Nk5KUvc74SMM"
      },
      "outputs": [],
      "source": [
        "def predict(x1, x2, x3, w1, w2, w3, b):\n",
        "    return w1*x1 + w2*x2 + w3*x3 + b"
      ]
    },
    {
      "cell_type": "code",
      "execution_count": 6,
      "metadata": {
        "colab": {
          "base_uri": "https://localhost:8080/"
        },
        "id": "ELUCKGOF5JJh",
        "outputId": "dc568283-9e9e-45a4-b1b2-8d6c70b02fce"
      },
      "outputs": [
        {
          "name": "stdout",
          "output_type": "stream",
          "text": [
            "1.0\n"
          ]
        }
      ],
      "source": [
        "#Multiple choices:\n",
        "#Question 2:\n",
        "y_p = predict(x1 = 1, x2 =1, x3=1, w1=0, w2=0.5, w3=0, b=0.5)\n",
        "print(y_p)"
      ]
    },
    {
      "cell_type": "markdown",
      "metadata": {
        "id": "awmrEKDg4eH5"
      },
      "source": [
        "#### *2.3 Loss Function*"
      ]
    },
    {
      "cell_type": "code",
      "execution_count": 7,
      "metadata": {
        "id": "wUHqp_jf4bLW"
      },
      "outputs": [],
      "source": [
        "def compute_loss_mse(y_hat, y):\n",
        "    return (y_hat - y)**2\n",
        "def compute_loss_mae(y_hat, y):\n",
        "    return abs(y_hat - y)"
      ]
    },
    {
      "cell_type": "code",
      "execution_count": 8,
      "metadata": {
        "colab": {
          "base_uri": "https://localhost:8080/"
        },
        "id": "kwv44Jk_5SEJ",
        "outputId": "fd89ccdd-06e4-44ed-c911-576c90025aa7"
      },
      "outputs": [
        {
          "name": "stdout",
          "output_type": "stream",
          "text": [
            "0.25\n"
          ]
        }
      ],
      "source": [
        "#Multiple choices:\n",
        "#Question 3:\n",
        "l = compute_loss_mse(y_hat=1, y=0.5)\n",
        "print(l)"
      ]
    },
    {
      "cell_type": "markdown",
      "metadata": {
        "id": "s4R9TMnG4vqv"
      },
      "source": [
        "#### *2.4 Gradient Computation*"
      ]
    },
    {
      "cell_type": "code",
      "execution_count": 9,
      "metadata": {
        "id": "wbeGSo6a58bN"
      },
      "outputs": [],
      "source": [
        "def compute_gradient_wi(xi, y, y_hat):\n",
        "    return 2 * (y_hat - y) * xi\n",
        "\n",
        "def compute_gradient_b(y, y_hat):\n",
        "    return 2 * (y_hat - y)"
      ]
    },
    {
      "cell_type": "code",
      "execution_count": 10,
      "metadata": {
        "colab": {
          "base_uri": "https://localhost:8080/"
        },
        "id": "LuGpPM5W6YJm",
        "outputId": "c974d61f-0ac0-4ff9-b205-a54d68696a4e"
      },
      "outputs": [
        {
          "name": "stdout",
          "output_type": "stream",
          "text": [
            "-1.0\n"
          ]
        }
      ],
      "source": [
        "#Multiple choices:\n",
        "#Question 4:\n",
        "g_wi = compute_gradient_wi(xi=1.0, y=1.0, y_hat=0.5)\n",
        "print(g_wi)"
      ]
    },
    {
      "cell_type": "code",
      "execution_count": 11,
      "metadata": {
        "colab": {
          "base_uri": "https://localhost:8080/"
        },
        "id": "W7gQDCM26mCn",
        "outputId": "9610554c-d8d4-4a09-ce9c-b5a0afc49482"
      },
      "outputs": [
        {
          "name": "stdout",
          "output_type": "stream",
          "text": [
            "-3.0\n"
          ]
        }
      ],
      "source": [
        "#Multiple choices:\n",
        "#Question 5:\n",
        "g_b =  compute_gradient_b(y=2.0, y_hat=0.5)\n",
        "print(g_b)"
      ]
    },
    {
      "cell_type": "markdown",
      "metadata": {
        "id": "ujL5BhsG40Sk"
      },
      "source": [
        "#### *2.5 Weight Update Function*"
      ]
    },
    {
      "cell_type": "code",
      "execution_count": 12,
      "metadata": {
        "id": "yUvtRWZW6vg1"
      },
      "outputs": [],
      "source": [
        "def update_weight_wi(wi, dl_dwi, lr):\n",
        "    return wi - lr * dl_dwi\n",
        "\n",
        "def update_weight_b(b, dl_db, lr):\n",
        "    return b - lr * dl_db"
      ]
    },
    {
      "cell_type": "code",
      "execution_count": 13,
      "metadata": {
        "colab": {
          "base_uri": "https://localhost:8080/"
        },
        "id": "JbSa99XI62CI",
        "outputId": "156a0277-4714-4492-c052-86656f4a1986"
      },
      "outputs": [
        {
          "name": "stdout",
          "output_type": "stream",
          "text": [
            "1.000005\n"
          ]
        }
      ],
      "source": [
        "#Multiple choices:\n",
        "#Question 6:\n",
        "after_wi = update_weight_wi(wi=1.0, dl_dwi=-0.5, lr = 1e-5)\n",
        "print(after_wi)"
      ]
    },
    {
      "cell_type": "code",
      "execution_count": 14,
      "metadata": {
        "colab": {
          "base_uri": "https://localhost:8080/"
        },
        "id": "H1i61t3L625p",
        "outputId": "d05a797f-dae3-4480-8c5e-0f0e3174c24f"
      },
      "outputs": [
        {
          "name": "stdout",
          "output_type": "stream",
          "text": [
            "0.50001\n"
          ]
        }
      ],
      "source": [
        "#Multiple choices:\n",
        "#Question 7:\n",
        "after_b = update_weight_b(b=0.5, dl_db=-1.0, lr = 1e-5)\n",
        "print(after_b)"
      ]
    },
    {
      "cell_type": "markdown",
      "metadata": {
        "id": "9EoyLrlp45HA"
      },
      "source": [
        "#### *2.6 Training and Plotting MSE*"
      ]
    },
    {
      "cell_type": "code",
      "execution_count": 15,
      "metadata": {
        "id": "7MkcjyEB7MEw"
      },
      "outputs": [],
      "source": [
        "def implement_linear_regression(X_data, y_data, epoch_max = 50, lr = 1e-5):\n",
        "  losses = []\n",
        "\n",
        "  w1, w2, w3, b = initialize_params()\n",
        "\n",
        "  N = len(y_data)\n",
        "  for epoch in range(epoch_max):\n",
        "      for i in range(N):\n",
        "          # get a sample\n",
        "          x1 = X_data[0][i]\n",
        "          x2 = X_data[1][i]\n",
        "          x3 = X_data[2][i]\n",
        "\n",
        "          y  = y_data[i]\n",
        "\n",
        "          # print(y)\n",
        "          # compute output\n",
        "          y_hat = predict(x1, x2, x3, w1, w2, w3, b)\n",
        "\n",
        "          # compute loss\n",
        "          loss = compute_loss_mse(y, y_hat)\n",
        "\n",
        "          # compute gradient w1, w2, w3, b\n",
        "          dl_dw1 = compute_gradient_wi(x1, y, y_hat)\n",
        "          dl_dw2 = compute_gradient_wi(x2, y, y_hat)\n",
        "          dl_dw3 = compute_gradient_wi(x3, y, y_hat)\n",
        "          dl_db  = compute_gradient_b(y, y_hat)\n",
        "\n",
        "          # update parameters\n",
        "          w1 = update_weight_wi(w1, dl_dw1, lr)\n",
        "          w2 = update_weight_wi(w2, dl_dw2, lr)\n",
        "          w3 = update_weight_wi(w3, dl_dw3, lr)\n",
        "          b  = update_weight_b(b, dl_db, lr)\n",
        "\n",
        "          # logging\n",
        "          losses.append(loss)\n",
        "  return (w1, w2, w3, b, losses)"
      ]
    },
    {
      "cell_type": "code",
      "execution_count": 16,
      "metadata": {
        "colab": {
          "base_uri": "https://localhost:8080/",
          "height": 449
        },
        "id": "z9gDJB3B7Wm9",
        "outputId": "f697b6a5-fd30-44e2-8b95-dfb9e6ab7499"
      },
      "outputs": [
        {
          "data": {
            "image/png": "[encoded data removed]",
            "text/plain": [
              "<Figure size 640x480 with 1 Axes>"
            ]
          },
          "metadata": {},
          "output_type": "display_data"
        }
      ],
      "source": [
        "(w1, w2, w3, b, losses) = implement_linear_regression(X,y)\n",
        "plt.plot(losses[:100])\n",
        "plt.xlabel(\"#iteration\")\n",
        "plt.ylabel(\"Loss\")\n",
        "plt.show()"
      ]
    },
    {
      "cell_type": "code",
      "execution_count": 17,
      "metadata": {
        "colab": {
          "base_uri": "https://localhost:8080/"
        },
        "id": "AN7yQZHK8OgA",
        "outputId": "10a0ea8f-7db2-48e0-dad1-afe6b03d4b90"
      },
      "outputs": [
        {
          "name": "stdout",
          "output_type": "stream",
          "text": [
            "0.07405984066396477 0.15917360263437663 0.017561197559948935\n"
          ]
        }
      ],
      "source": [
        "#Multiple choices:\n",
        "#Question 8:\n",
        "print(w1, w2, w3)"
      ]
    },
    {
      "cell_type": "code",
      "execution_count": 18,
      "metadata": {
        "colab": {
          "base_uri": "https://localhost:8080/"
        },
        "id": "kI6cn-hK9KAz",
        "outputId": "578755f6-3368-4373-e5dd-a69f9cbb1c05"
      },
      "outputs": [
        {
          "name": "stdout",
          "output_type": "stream",
          "text": [
            "Predicted sales is: 8.176413319549823\n"
          ]
        }
      ],
      "source": [
        "#Multiple choices:\n",
        "#Question 9:\n",
        "# given new data\n",
        "tv = 19.2\n",
        "radio = 35.9\n",
        "newspaper = 51.3\n",
        "\n",
        "sales = predict(tv, radio, newspaper, w1, w2, w3, b)\n",
        "print(f'Predicted sales is: {sales}')"
      ]
    },
    {
      "cell_type": "markdown",
      "metadata": {
        "id": "2hJ3AGcd49s2"
      },
      "source": [
        "#### *2.7 Training and Plotting MAE*"
      ]
    },
    {
      "cell_type": "code",
      "execution_count": 19,
      "metadata": {
        "id": "_nJyhLBL-CXN"
      },
      "outputs": [],
      "source": [
        "def implement_linear_regression(X_data, y_data, epoch_max = 50, lr = 1e-5):\n",
        "  losses = []\n",
        "\n",
        "  w1, w2, w3, b = initialize_params()\n",
        "\n",
        "  N = len(y_data)\n",
        "  for epoch in range(epoch_max):\n",
        "      for i in range(N):\n",
        "          # get a sample\n",
        "          x1 = X_data[0][i]\n",
        "          x2 = X_data[1][i]\n",
        "          x3 = X_data[2][i]\n",
        "\n",
        "          y  = y_data[i]\n",
        "\n",
        "          # print(y)\n",
        "          # compute output\n",
        "          y_hat = predict(x1, x2, x3, w1, w2, w3, b)\n",
        "\n",
        "          # compute loss\n",
        "          loss = compute_loss_mae(y, y_hat)\n",
        "\n",
        "          # compute gradient w1, w2, w3, b\n",
        "          dl_dw1 = compute_gradient_wi(x1, y, y_hat)\n",
        "          dl_dw2 = compute_gradient_wi(x2, y, y_hat)\n",
        "          dl_dw3 = compute_gradient_wi(x3, y, y_hat)\n",
        "          dl_db  = compute_gradient_b(y, y_hat)\n",
        "\n",
        "          # update parameters\n",
        "          w1 = update_weight_wi(w1, dl_dw1, lr)\n",
        "          w2 = update_weight_wi(w2, dl_dw2, lr)\n",
        "          w3 = update_weight_wi(w3, dl_dw3, lr)\n",
        "          b  = update_weight_b(b, dl_db, lr)\n",
        "\n",
        "          # logging\n",
        "          losses.append(loss)\n",
        "  return (w1, w2, w3, b, losses)"
      ]
    },
    {
      "cell_type": "code",
      "execution_count": 20,
      "metadata": {
        "colab": {
          "base_uri": "https://localhost:8080/",
          "height": 449
        },
        "id": "Zd78JxQZ-V6g",
        "outputId": "744a0041-1393-47b7-bfbc-82c98ede547d"
      },
      "outputs": [
        {
          "data": {
            "image/png": "[encoded data removed]",
            "text/plain": [
              "<Figure size 640x480 with 1 Axes>"
            ]
          },
          "metadata": {},
          "output_type": "display_data"
        }
      ],
      "source": [
        "(w1, w2, w3, b, losses) = implement_linear_regression(X,y)\n",
        "plt.plot(losses[:100])\n",
        "plt.xlabel(\"#iteration\")\n",
        "plt.ylabel(\"Loss\")\n",
        "plt.show()"
      ]
    },
    {
      "cell_type": "code",
      "execution_count": 21,
      "metadata": {
        "colab": {
          "base_uri": "https://localhost:8080/"
        },
        "id": "u_OKZz_S-nCa",
        "outputId": "47637e7a-73aa-419b-8895-5aa407b02c3b"
      },
      "outputs": [
        {
          "name": "stdout",
          "output_type": "stream",
          "text": [
            "0.5\n"
          ]
        }
      ],
      "source": [
        "#Multiple choices:\n",
        "#Question 10:\n",
        "l = compute_loss_mae(y_hat=1, y=0.5)\n",
        "print(l)"
      ]
    },
    {
      "cell_type": "markdown",
      "metadata": {
        "id": "vXWhPLkN-5ys"
      },
      "source": [
        "### **Exercise 3: Training Linear Regression with N Samples**"
      ]
    },
    {
      "cell_type": "markdown",
      "metadata": {
        "id": "DhKOLrkcEBzy"
      },
      "source": [
        "#### *Plotting MSE*"
      ]
    },
    {
      "cell_type": "code",
      "execution_count": 22,
      "metadata": {
        "id": "5Y16GozF-6kE"
      },
      "outputs": [],
      "source": [
        "def implement_linear_regression_nsamples(X_data, y_data, epoch_max = 50,lr = 1e-5):\n",
        "  losses = []\n",
        "\n",
        "  w1, w2, w3, b = initialize_params()\n",
        "  N = len(y_data)\n",
        "\n",
        "  for epoch in range(epoch_max):\n",
        "\n",
        "      loss_total = 0.0\n",
        "      dw1_total = 0.0\n",
        "      dw2_total = 0.0\n",
        "      dw3_total = 0.0\n",
        "      db_total  = 0.0\n",
        "\n",
        "      for i in range(N):\n",
        "          # get a sample\n",
        "          x1 = X_data[0][i]\n",
        "          x2 = X_data[1][i]\n",
        "          x3 = X_data[2][i]\n",
        "\n",
        "          y  = y_data[i]\n",
        "\n",
        "          # print(y)\n",
        "          # compute output\n",
        "          y_hat = predict(x1, x2, x3, w1, w2, w3, b)\n",
        "\n",
        "          # compute loss\n",
        "          loss = compute_loss_mse(y, y_hat)\n",
        "\n",
        "          # accumulate loss to total loss\n",
        "          loss_total += loss\n",
        "\n",
        "          # compute gradient w1, w2, w3, b\n",
        "          dl_dw1 = compute_gradient_wi(x1, y, y_hat)\n",
        "          dl_dw2 = compute_gradient_wi(x2, y, y_hat)\n",
        "          dl_dw3 = compute_gradient_wi(x3, y, y_hat)\n",
        "          dl_db  = compute_gradient_b(y, y_hat)\n",
        "\n",
        "      # accumulate gradient w1, w2, w3, b\n",
        "      dw1_total += dl_dw1\n",
        "      dw2_total += dl_dw2\n",
        "      dw3_total += dl_dw3\n",
        "      db_total  += dl_db\n",
        "\n",
        "      # (after processing N samples) - update parameters\n",
        "      w1 = update_weight_wi(w1, dw1_total/N, lr)\n",
        "      w2 = update_weight_wi(w2, dw2_total/N, lr)\n",
        "      w3 = update_weight_wi(w3, dw3_total/N, lr)\n",
        "      b  = update_weight_b(b, db_total/N, lr)\n",
        "\n",
        "      # logging\n",
        "      losses.append(loss_total/N)\n",
        "  return (w1,w2,w3,b, losses)"
      ]
    },
    {
      "cell_type": "code",
      "execution_count": 23,
      "metadata": {
        "colab": {
          "base_uri": "https://localhost:8080/",
          "height": 453
        },
        "id": "5_iwr0wDCuyO",
        "outputId": "c1e826ec-e6a7-4362-9c85-f0f0ee516b25"
      },
      "outputs": [
        {
          "data": {
            "image/png": "[encoded data removed]",
            "text/plain": [
              "<Figure size 640x480 with 1 Axes>"
            ]
          },
          "metadata": {},
          "output_type": "display_data"
        }
      ],
      "source": [
        "(w1,w2,w3,b, losses) = implement_linear_regression_nsamples(X,y,1000)\n",
        "plt.plot(losses)\n",
        "plt.xlabel(\"#epoch\")\n",
        "plt.ylabel(\"MSE Loss\")\n",
        "plt.show()"
      ]
    },
    {
      "cell_type": "code",
      "execution_count": 24,
      "metadata": {
        "colab": {
          "base_uri": "https://localhost:8080/"
        },
        "id": "uV217mQfEmsI",
        "outputId": "2f3048a8-1893-46c6-e855-22c6141fa1ee"
      },
      "outputs": [
        {
          "name": "stdout",
          "output_type": "stream",
          "text": [
            "0.07865211655017688 0.009363049405216773 3.387579445815582e-06\n"
          ]
        }
      ],
      "source": [
        "#Multiple choices:\n",
        "#Question 11:\n",
        "print(w1,w2,w3)"
      ]
    },
    {
      "cell_type": "markdown",
      "metadata": {
        "id": "7xkrY3Du_MJQ"
      },
      "source": [
        "#### *Plotting MAE (Optional)*"
      ]
    },
    {
      "cell_type": "code",
      "execution_count": 25,
      "metadata": {
        "id": "yzkLf7cCELjv"
      },
      "outputs": [],
      "source": [
        "def implement_linear_regression_nsamples(X_data, y_data, epoch_max = 50,lr = 1e-5):\n",
        "  losses = []\n",
        "\n",
        "  w1, w2, w3, b = initialize_params()\n",
        "  N = len(y_data)\n",
        "\n",
        "  for epoch in range(epoch_max):\n",
        "\n",
        "      loss_total = 0.0\n",
        "      dw1_total = 0.0\n",
        "      dw2_total = 0.0\n",
        "      dw3_total = 0.0\n",
        "      db_total  = 0.0\n",
        "\n",
        "      for i in range(N):\n",
        "          # get a sample\n",
        "          x1 = X_data[0][i]\n",
        "          x2 = X_data[1][i]\n",
        "          x3 = X_data[2][i]\n",
        "\n",
        "          y  = y_data[i]\n",
        "\n",
        "          # print(y)\n",
        "          # compute output\n",
        "          y_hat = predict(x1, x2, x3, w1, w2, w3, b)\n",
        "\n",
        "          # compute loss\n",
        "          loss = compute_loss_mae(y, y_hat)\n",
        "\n",
        "          # accumulate loss to total loss\n",
        "          loss_total += loss\n",
        "\n",
        "          # compute gradient w1, w2, w3, b\n",
        "          dl_dw1 = compute_gradient_wi(x1, y, y_hat)\n",
        "          dl_dw2 = compute_gradient_wi(x2, y, y_hat)\n",
        "          dl_dw3 = compute_gradient_wi(x3, y, y_hat)\n",
        "          dl_db  = compute_gradient_b(y, y_hat)\n",
        "\n",
        "      # accumulate gradient w1, w2, w3, b\n",
        "      dw1_total += dl_dw1\n",
        "      dw2_total += dl_dw2\n",
        "      dw3_total += dl_dw3\n",
        "      db_total  += dl_db\n",
        "\n",
        "      # (after processing N samples) - update parameters\n",
        "      w1 = update_weight_wi(w1, dw1_total/N, lr)\n",
        "      w2 = update_weight_wi(w2, dw2_total/N, lr)\n",
        "      w3 = update_weight_wi(w3, dw3_total/N, lr)\n",
        "      b  = update_weight_b(b, db_total/N, lr)\n",
        "\n",
        "      # logging\n",
        "      losses.append(loss_total/N)\n",
        "  return (w1,w2,w3,b, losses)"
      ]
    },
    {
      "cell_type": "code",
      "execution_count": 26,
      "metadata": {
        "colab": {
          "base_uri": "https://localhost:8080/",
          "height": 449
        },
        "id": "qyY2OmCfEPdV",
        "outputId": "a90a87b8-2d57-495c-f1a2-ffb68c398c81"
      },
      "outputs": [
        {
          "data": {
            "image/png": "[encoded data removed]",
            "text/plain": [
              "<Figure size 640x480 with 1 Axes>"
            ]
          },
          "metadata": {},
          "output_type": "display_data"
        }
      ],
      "source": [
        "(w1,w2,w3,b, losses) = implement_linear_regression_nsamples(X,y,1000)\n",
        "plt.plot(losses)\n",
        "plt.xlabel(\"#epoch\")\n",
        "plt.ylabel(\"MAE Loss\")\n",
        "plt.show()"
      ]
    },
    {
      "cell_type": "markdown",
      "metadata": {
        "id": "i1XnJdyN_UJw"
      },
      "source": [
        "### **Exercise 4: Improved Linear Regression**"
      ]
    },
    {
      "cell_type": "code",
      "execution_count": 27,
      "metadata": {
        "id": "pECCrhzsFOos"
      },
      "outputs": [],
      "source": [
        "def prepare_data(file_name_dataset):\n",
        "  data = np.genfromtxt(file_name_dataset, delimiter=',', skip_header=1).tolist()\n",
        "\n",
        "  # get tv (index=0)\n",
        "  tv_data = get_column(data, 0)\n",
        "\n",
        "  # get radio (index=1)\n",
        "  radio_data = get_column(data, 1)\n",
        "\n",
        "  # get newspaper (index=2)\n",
        "  newspaper_data = get_column(data, 2)\n",
        "\n",
        "  # get sales (index=3)\n",
        "  sales_data = get_column(data, 3)\n",
        "\n",
        "  # building X input  and y output for training\n",
        "  #Create list of features for input\n",
        "  X = [[1, x1, x2, x3] for x1, x2, x3 in zip(tv_data, radio_data, newspaper_data)]\n",
        "  y = sales_data\n",
        "  return X,y"
      ]
    },
    {
      "cell_type": "code",
      "execution_count": 28,
      "metadata": {
        "id": "E7fkJmq9F3QH"
      },
      "outputs": [],
      "source": [
        "def initialize_params():\n",
        "    bias = 0\n",
        "    w1 = random.gauss(mu=0.0, sigma=0.01)\n",
        "    w2 = random.gauss(mu=0.0, sigma=0.01)\n",
        "    w3 = random.gauss(mu=0.0, sigma=0.01)\n",
        "\n",
        "    return [0, 0.016992259082509283, 0.0070783670518262355, -0.002307860847821344]\n",
        "    # return [bias, w1, w2, w3]"
      ]
    },
    {
      "cell_type": "code",
      "execution_count": 29,
      "metadata": {
        "id": "XXXc_47IF-j1"
      },
      "outputs": [],
      "source": [
        "def predict(X_features, weights):\n",
        "    return sum(x * w for x, w in zip(X_features, weights))\n",
        "\n",
        "def compute_gradient_w(X_features, y, y_hat):\n",
        "    return [2 * (y_hat - y) * x for x in X_features]\n",
        "\n",
        "def update_weight(weights, dl_dweights, lr):\n",
        "    return [w - lr * dw for w, dw in zip(weights, dl_dweights)]"
      ]
    },
    {
      "cell_type": "code",
      "execution_count": 30,
      "metadata": {
        "id": "oHKkUpCzGF2v"
      },
      "outputs": [],
      "source": [
        "def implement_linear_regression(X_feature, y_output, epoch_max = 50,lr = 1e-5):\n",
        "\n",
        "  losses = []\n",
        "  weights = initialize_params()\n",
        "  N = len(y_output)\n",
        "  for epoch in range(epoch_max):\n",
        "      for i in range(N):\n",
        "          # get a sample - row i\n",
        "          features_i = X_feature[i]\n",
        "          y = y_output[i]\n",
        "\n",
        "          # compute output\n",
        "          y_hat = predict(features_i, weights)\n",
        "\n",
        "          # compute loss\n",
        "          loss = compute_loss_mse(y, y_hat)\n",
        "\n",
        "          # compute gradient w1, w2, w3, b\n",
        "          dl_dweights = compute_gradient_w(features_i, y, y_hat)\n",
        "\n",
        "          # update parameters\n",
        "          weights = update_weight(weights, dl_dweights, lr)\n",
        "\n",
        "          # logging\n",
        "          losses.append(loss)\n",
        "  return weights, losses"
      ]
    },
    {
      "cell_type": "markdown",
      "metadata": {
        "id": "Kk6BOPmH_Y15"
      },
      "source": [
        "#### *Plotting Results*"
      ]
    },
    {
      "cell_type": "code",
      "execution_count": 31,
      "metadata": {
        "colab": {
          "base_uri": "https://localhost:8080/",
          "height": 449
        },
        "id": "oDwFBzlpIdbp",
        "outputId": "3b75c2d0-3f34-4c3a-ec95-f7d152729d9a"
      },
      "outputs": [
        {
          "data": {
            "image/png": "[encoded data removed]",
            "text/plain": [
              "<Figure size 640x480 with 1 Axes>"
            ]
          },
          "metadata": {},
          "output_type": "display_data"
        }
      ],
      "source": [
        "X,y = prepare_data('advertising.csv')\n",
        "W,L = implement_linear_regression(X,y)\n",
        "plt.plot(L[:100])\n",
        "plt.xlabel(\"#iteration\")\n",
        "plt.ylabel(\"Loss\")\n",
        "plt.show()"
      ]
    },
    {
      "cell_type": "code",
      "execution_count": 32,
      "metadata": {
        "colab": {
          "base_uri": "https://localhost:8080/"
        },
        "id": "PDusvv5ZLK3n",
        "outputId": "07dd0521-a187-41cc-b2e1-4aa267cc255f"
      },
      "outputs": [
        {
          "name": "stdout",
          "output_type": "stream",
          "text": [
            "31.338878034644356\n"
          ]
        }
      ],
      "source": [
        "#Multiple choices:\n",
        "#Question 12:\n",
        "X,y = prepare_data('advertising.csv')\n",
        "W,L = implement_linear_regression(X,y)\n",
        "# Print loss value at interation 9999\n",
        "print(L[9999])"
      ]
    }
  ],
  "metadata": {
    "colab": {
      "provenance": []
    },
    "kernelspec": {
      "display_name": "Python 3",
      "name": "python3"
    },
    "language_info": {
      "codemirror_mode": {
        "name": "ipython",
        "version": 3
      },
      "file_extension": ".py",
      "mimetype": "text/x-python",
      "name": "python",
      "nbconvert_exporter": "python",
      "pygments_lexer": "ipython3",
      "version": "3.12.3"
    }
  },
  "nbformat": 4,
  "nbformat_minor": 0
}
