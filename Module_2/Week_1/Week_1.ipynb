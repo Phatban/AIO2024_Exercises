{
  "nbformat": 4,
  "nbformat_minor": 0,
  "metadata": {
    "colab": {
      "provenance": []
    },
    "kernelspec": {
      "name": "python3",
      "display_name": "Python 3"
    },
    "language_info": {
      "name": "python"
    }
  },
  "cells": [
    {
      "cell_type": "markdown",
      "source": [
        "# NumPy\n",
        "\n"
      ],
      "metadata": {
        "id": "A_DUhH9OK8oe"
      }
    },
    {
      "cell_type": "markdown",
      "source": [
        "## Exercise 1: Basic NumPy\n"
      ],
      "metadata": {
        "id": "imWToKPwLdSu"
      }
    },
    {
      "cell_type": "markdown",
      "source": [
        "### Question 1:"
      ],
      "metadata": {
        "id": "ebc7Ne8kL_2t"
      }
    },
    {
      "cell_type": "code",
      "source": [
        "import numpy as np\n",
        "arr = np.arange(0, 10, 1)\n",
        "print(arr)"
      ],
      "metadata": {
        "colab": {
          "base_uri": "https://localhost:8080/"
        },
        "id": "HFleNgj0MDiI",
        "outputId": "90c1a7d4-ac3a-4325-862b-d73a4f8b6efe"
      },
      "execution_count": 1,
      "outputs": [
        {
          "output_type": "stream",
          "name": "stdout",
          "text": [
            "[0 1 2 3 4 5 6 7 8 9]\n"
          ]
        }
      ]
    },
    {
      "cell_type": "markdown",
      "source": [
        "### Question 2:"
      ],
      "metadata": {
        "id": "HNJVzQxOMH5H"
      }
    },
    {
      "cell_type": "code",
      "source": [
        "arr1 = np.ones((3, 3)) > 0\n",
        "arr2 = np.ones((3,3), dtype=bool)\n",
        "arr3 = np.full((3,3), fill_value=True, dtype=bool)\n",
        "print(arr1, '\\n', arr2, '\\n', arr3)"
      ],
      "metadata": {
        "colab": {
          "base_uri": "https://localhost:8080/"
        },
        "id": "9V5MPVLmMVKV",
        "outputId": "868bdf33-a199-4a65-eadc-61dd79360ca7"
      },
      "execution_count": 2,
      "outputs": [
        {
          "output_type": "stream",
          "name": "stdout",
          "text": [
            "[[ True  True  True]\n",
            " [ True  True  True]\n",
            " [ True  True  True]] \n",
            " [[ True  True  True]\n",
            " [ True  True  True]\n",
            " [ True  True  True]] \n",
            " [[ True  True  True]\n",
            " [ True  True  True]\n",
            " [ True  True  True]]\n"
          ]
        }
      ]
    },
    {
      "cell_type": "markdown",
      "source": [
        "### Question 3:"
      ],
      "metadata": {
        "id": "xooZhrtYNHYh"
      }
    },
    {
      "cell_type": "code",
      "source": [
        "import numpy as np\n",
        "arr = np.arange(0, 10)\n",
        "print(arr[arr % 2 == 1])"
      ],
      "metadata": {
        "colab": {
          "base_uri": "https://localhost:8080/"
        },
        "id": "bRm63fCpNKqI",
        "outputId": "0eecd3c3-cdeb-4d96-d771-f2e5db08b8e0"
      },
      "execution_count": 3,
      "outputs": [
        {
          "output_type": "stream",
          "name": "stdout",
          "text": [
            "[1 3 5 7 9]\n"
          ]
        }
      ]
    },
    {
      "cell_type": "markdown",
      "source": [
        "### Question 4:"
      ],
      "metadata": {
        "id": "8ha2MtIfNOIc"
      }
    },
    {
      "cell_type": "code",
      "source": [
        "import numpy as np\n",
        "arr = np.arange(0, 10)\n",
        "arr[arr % 2 == 1] = -1\n",
        "print(arr)"
      ],
      "metadata": {
        "colab": {
          "base_uri": "https://localhost:8080/"
        },
        "id": "mxs0-MjjNVDP",
        "outputId": "8f8b51af-2a3c-43f8-824c-378e44bef5f2"
      },
      "execution_count": 4,
      "outputs": [
        {
          "output_type": "stream",
          "name": "stdout",
          "text": [
            "[ 0 -1  2 -1  4 -1  6 -1  8 -1]\n"
          ]
        }
      ]
    },
    {
      "cell_type": "markdown",
      "source": [
        "### Question 5:"
      ],
      "metadata": {
        "id": "5Imd6c_7NYqV"
      }
    },
    {
      "cell_type": "code",
      "source": [
        "import numpy as np\n",
        "arr = np.arange(10)\n",
        "arr_2d = arr.reshape(2, -1)\n",
        "print(arr_2d)"
      ],
      "metadata": {
        "colab": {
          "base_uri": "https://localhost:8080/"
        },
        "id": "Qt7FXKlINbNl",
        "outputId": "1f284f3a-906f-40c2-ef0b-06f47aa3da62"
      },
      "execution_count": 5,
      "outputs": [
        {
          "output_type": "stream",
          "name": "stdout",
          "text": [
            "[[0 1 2 3 4]\n",
            " [5 6 7 8 9]]\n"
          ]
        }
      ]
    },
    {
      "cell_type": "markdown",
      "source": [
        "### Question 6:"
      ],
      "metadata": {
        "id": "a57Er_wUNeft"
      }
    },
    {
      "cell_type": "code",
      "source": [
        "import numpy as np\n",
        "arr1 = np.arange(10).reshape(2, -1)\n",
        "arr2 = np.repeat(1, 10).reshape(2, -1)\n",
        "c = np.concatenate([arr1, arr2], axis=0)\n",
        "print(\"Result:\\n\", c)"
      ],
      "metadata": {
        "colab": {
          "base_uri": "https://localhost:8080/"
        },
        "id": "YKyNfM5nNg3v",
        "outputId": "e5309a93-aaed-4936-b623-8d48c6c704f7"
      },
      "execution_count": 6,
      "outputs": [
        {
          "output_type": "stream",
          "name": "stdout",
          "text": [
            "Result:\n",
            " [[0 1 2 3 4]\n",
            " [5 6 7 8 9]\n",
            " [1 1 1 1 1]\n",
            " [1 1 1 1 1]]\n"
          ]
        }
      ]
    },
    {
      "cell_type": "markdown",
      "source": [
        "### Question 7:"
      ],
      "metadata": {
        "id": "oJYV2OksNjT1"
      }
    },
    {
      "cell_type": "code",
      "source": [
        "import numpy as np\n",
        "arr1 = np.arange(10).reshape(2, -1)\n",
        "arr2 = np.repeat(1, 10).reshape(2, -1)\n",
        "c = np.concatenate([arr1, arr2], axis=1)\n",
        "print(\"C =\", c)"
      ],
      "metadata": {
        "colab": {
          "base_uri": "https://localhost:8080/"
        },
        "id": "Ye8rTEnKNo3n",
        "outputId": "3362f716-fed7-434b-e6c5-9531596da01c"
      },
      "execution_count": 7,
      "outputs": [
        {
          "output_type": "stream",
          "name": "stdout",
          "text": [
            "C = [[0 1 2 3 4 1 1 1 1 1]\n",
            " [5 6 7 8 9 1 1 1 1 1]]\n"
          ]
        }
      ]
    },
    {
      "cell_type": "markdown",
      "source": [
        "### Question 8:"
      ],
      "metadata": {
        "id": "6cnaFMsENt-g"
      }
    },
    {
      "cell_type": "code",
      "source": [
        "import numpy as np\n",
        "arr = np.array([1, 2, 3])\n",
        "print(np.repeat(arr, 3))\n",
        "print(np.tile(arr, 3))"
      ],
      "metadata": {
        "colab": {
          "base_uri": "https://localhost:8080/"
        },
        "id": "9Dz8MISgNwab",
        "outputId": "b523766f-7c5a-4fb5-8170-539f50888f2f"
      },
      "execution_count": 8,
      "outputs": [
        {
          "output_type": "stream",
          "name": "stdout",
          "text": [
            "[1 1 1 2 2 2 3 3 3]\n",
            "[1 2 3 1 2 3 1 2 3]\n"
          ]
        }
      ]
    },
    {
      "cell_type": "markdown",
      "source": [
        "### Question 9:"
      ],
      "metadata": {
        "id": "EHpFtXKlN7UG"
      }
    },
    {
      "cell_type": "code",
      "source": [
        "import numpy as np\n",
        "a = np.array([2, 6, 1, 9, 10, 3, 27])\n",
        "index = np.where((a >= 5) & (a <= 10))\n",
        "print(\"result\", a[index])"
      ],
      "metadata": {
        "colab": {
          "base_uri": "https://localhost:8080/"
        },
        "id": "2Jjq-O4sN9Ka",
        "outputId": "6a48d016-9706-457a-8986-ca45fc4a38f6"
      },
      "execution_count": 9,
      "outputs": [
        {
          "output_type": "stream",
          "name": "stdout",
          "text": [
            "result [ 6  9 10]\n"
          ]
        }
      ]
    },
    {
      "cell_type": "markdown",
      "source": [
        "### Question 10:"
      ],
      "metadata": {
        "id": "qy_1Wq-1N_h-"
      }
    },
    {
      "cell_type": "code",
      "source": [
        "import numpy as np\n",
        "\n",
        "def maxx(x, y):\n",
        "    if x >= y:\n",
        "        return x\n",
        "    else:\n",
        "        return y\n",
        "\n",
        "a = np.array([5, 7, 9, 8, 6, 4, 5])\n",
        "b = np.array([6, 3, 4, 8, 9, 7, 1])\n",
        "\n",
        "pair_max = np.vectorize(maxx, otypes=[float])\n",
        "print(pair_max(a, b))"
      ],
      "metadata": {
        "colab": {
          "base_uri": "https://localhost:8080/"
        },
        "id": "PLg8kXjJOECC",
        "outputId": "1edb57e0-f3ab-4659-cfc7-36ce55e0a778"
      },
      "execution_count": 10,
      "outputs": [
        {
          "output_type": "stream",
          "name": "stdout",
          "text": [
            "[6. 7. 9. 8. 9. 7. 5.]\n"
          ]
        }
      ]
    },
    {
      "cell_type": "markdown",
      "source": [
        "### Question 11:"
      ],
      "metadata": {
        "id": "bSGABav9OF0J"
      }
    },
    {
      "cell_type": "code",
      "source": [
        "import numpy as np\n",
        "\n",
        "a = np.array([5, 7, 9, 8, 6, 4, 5])\n",
        "b = np.array([6, 3, 4, 8, 9, 7, 1])\n",
        "\n",
        "print(\"Result\", np.where(a < b, b, a))"
      ],
      "metadata": {
        "colab": {
          "base_uri": "https://localhost:8080/"
        },
        "id": "fuW5jiwfOI7-",
        "outputId": "65a1f293-a388-447a-b46e-e47e98296122"
      },
      "execution_count": 11,
      "outputs": [
        {
          "output_type": "stream",
          "name": "stdout",
          "text": [
            "Result [6 7 9 8 9 7 5]\n"
          ]
        }
      ]
    },
    {
      "cell_type": "markdown",
      "source": [
        "## Exercise 2: Image Processing"
      ],
      "metadata": {
        "id": "wkoaaxf_OnB1"
      }
    },
    {
      "cell_type": "code",
      "source": [
        "# Download image\n",
        "!gdown 1i9dqan21DjQoG5Q_VEvm0LrVwAlXD0vB\n",
        "\n",
        "import matplotlib.image as mpimg\n",
        "import numpy as np\n",
        "\n",
        "img = mpimg.imread('/content/dog.jpeg')"
      ],
      "metadata": {
        "colab": {
          "base_uri": "https://localhost:8080/"
        },
        "id": "vTxN93ptPjLr",
        "outputId": "d8ef2358-1bf9-4c53-94d4-fe414fa1707e"
      },
      "execution_count": 12,
      "outputs": [
        {
          "output_type": "stream",
          "name": "stdout",
          "text": [
            "Downloading...\n",
            "From: https://drive.google.com/uc?id=1i9dqan21DjQoG5Q_VEvm0LrVwAlXD0vB\n",
            "To: /content/dog.jpeg\n",
            "\r  0% 0.00/33.7k [00:00<?, ?B/s]\r100% 33.7k/33.7k [00:00<00:00, 47.0MB/s]\n"
          ]
        }
      ]
    },
    {
      "cell_type": "markdown",
      "source": [
        "### Question 12:"
      ],
      "metadata": {
        "id": "QlAgYZnROKx0"
      }
    },
    {
      "cell_type": "code",
      "source": [
        "gray_img_01 = (np.max(img, axis=2) + np.min(img, axis=2)) / 2\n",
        "print(gray_img_01[0, 0])"
      ],
      "metadata": {
        "colab": {
          "base_uri": "https://localhost:8080/"
        },
        "id": "XtXqJSJhORTZ",
        "outputId": "679da2ec-52a8-4926-bf2d-fd7961fbc28a"
      },
      "execution_count": 13,
      "outputs": [
        {
          "output_type": "stream",
          "name": "stdout",
          "text": [
            "102.5\n"
          ]
        }
      ]
    },
    {
      "cell_type": "markdown",
      "source": [
        "### Question 13:"
      ],
      "metadata": {
        "id": "bzARlCzFP3PZ"
      }
    },
    {
      "cell_type": "code",
      "source": [
        "gray_img_02 = np.mean(img, axis=2)\n",
        "print(gray_img_02[0, 0])"
      ],
      "metadata": {
        "colab": {
          "base_uri": "https://localhost:8080/"
        },
        "id": "geF9PsERP64A",
        "outputId": "5336022f-6ea8-468e-fd7f-1825d2d9fee6"
      },
      "execution_count": 14,
      "outputs": [
        {
          "output_type": "stream",
          "name": "stdout",
          "text": [
            "107.66666666666667\n"
          ]
        }
      ]
    },
    {
      "cell_type": "markdown",
      "source": [
        "### Question 14:"
      ],
      "metadata": {
        "id": "-VlP2pybQdFD"
      }
    },
    {
      "cell_type": "code",
      "source": [
        "gray_img_03 = 0.21 * img[:,:,0] + 0.72 * img[:,:,1] + 0.07 * img[:,:,2]\n",
        "print(gray_img_03[0, 0])"
      ],
      "metadata": {
        "colab": {
          "base_uri": "https://localhost:8080/"
        },
        "id": "a1bQgsL5Qirs",
        "outputId": "7fed5945-4d1e-4cf6-8eee-72d56be61228"
      },
      "execution_count": 15,
      "outputs": [
        {
          "output_type": "stream",
          "name": "stdout",
          "text": [
            "126.22999999999999\n"
          ]
        }
      ]
    },
    {
      "cell_type": "markdown",
      "source": [
        "## Exercise 3: Tabular Data Analysis"
      ],
      "metadata": {
        "id": "Oox0WmxWRSbF"
      }
    },
    {
      "cell_type": "code",
      "source": [
        "# Download data\n",
        "!gdown 1iA0WmVfW88HyJvTBSQDI5vesf-pgKabq\n",
        "\n",
        "import pandas as pd\n",
        "import numpy as np\n",
        "\n",
        "df = pd.read_csv('/content/advertising.csv')\n",
        "data = df.to_numpy()"
      ],
      "metadata": {
        "colab": {
          "base_uri": "https://localhost:8080/"
        },
        "id": "cGBaqu2zRper",
        "outputId": "60b635e5-de4c-4e33-e7df-4f6a9e7cd0cd"
      },
      "execution_count": 16,
      "outputs": [
        {
          "output_type": "stream",
          "name": "stdout",
          "text": [
            "Downloading...\n",
            "From: https://drive.google.com/uc?id=1iA0WmVfW88HyJvTBSQDI5vesf-pgKabq\n",
            "To: /content/advertising.csv\n",
            "\r  0% 0.00/4.06k [00:00<?, ?B/s]\r100% 4.06k/4.06k [00:00<00:00, 12.4MB/s]\n"
          ]
        }
      ]
    },
    {
      "cell_type": "markdown",
      "source": [
        "### Question  15:"
      ],
      "metadata": {
        "id": "gGA--ze4RVgL"
      }
    },
    {
      "cell_type": "code",
      "source": [
        "max_sales = np.max(data[:, -1])\n",
        "max_index = np.argmax(data[:, -1])\n",
        "print(f\"Max: {max_sales} - Index: {max_index}\")"
      ],
      "metadata": {
        "colab": {
          "base_uri": "https://localhost:8080/"
        },
        "id": "RVf16a_BRotS",
        "outputId": "c3e0bfd9-7d22-409a-dbcf-271057b3051c"
      },
      "execution_count": 17,
      "outputs": [
        {
          "output_type": "stream",
          "name": "stdout",
          "text": [
            "Max: 27.0 - Index: 175\n"
          ]
        }
      ]
    },
    {
      "cell_type": "markdown",
      "source": [
        "### Question 16:"
      ],
      "metadata": {
        "id": "N9LJIlDcSAss"
      }
    },
    {
      "cell_type": "code",
      "source": [
        "tv_mean = np.mean(data[:, 0])\n",
        "print(f\"{tv_mean:.1f}\")"
      ],
      "metadata": {
        "colab": {
          "base_uri": "https://localhost:8080/"
        },
        "id": "pP7lrjkrSDXT",
        "outputId": "2ebc45d0-3939-4b53-95fe-1dc727ad7451"
      },
      "execution_count": 18,
      "outputs": [
        {
          "output_type": "stream",
          "name": "stdout",
          "text": [
            "147.0\n"
          ]
        }
      ]
    },
    {
      "cell_type": "markdown",
      "source": [
        "### Question 17:"
      ],
      "metadata": {
        "id": "6ZXTK51JScsJ"
      }
    },
    {
      "cell_type": "code",
      "source": [
        "count = np.sum(data[:, -1] >= 20)\n",
        "print(count)"
      ],
      "metadata": {
        "colab": {
          "base_uri": "https://localhost:8080/"
        },
        "id": "nXvACOLmSgRA",
        "outputId": "2af16171-1022-4fc6-c1f5-ba87afb42e10"
      },
      "execution_count": 19,
      "outputs": [
        {
          "output_type": "stream",
          "name": "stdout",
          "text": [
            "40\n"
          ]
        }
      ]
    },
    {
      "cell_type": "markdown",
      "source": [
        "### Question 18:"
      ],
      "metadata": {
        "id": "KvjkGgfhTuSz"
      }
    },
    {
      "cell_type": "code",
      "source": [
        "radio_mean = np.mean(data[data[:, -1] >= 15, 1])\n",
        "print(f\"{radio_mean:.1f}\")"
      ],
      "metadata": {
        "colab": {
          "base_uri": "https://localhost:8080/"
        },
        "id": "ZVKs_TFsTwig",
        "outputId": "79e52fd2-3aa9-48c9-f7ad-35b7c3912111"
      },
      "execution_count": 20,
      "outputs": [
        {
          "output_type": "stream",
          "name": "stdout",
          "text": [
            "26.2\n"
          ]
        }
      ]
    },
    {
      "cell_type": "markdown",
      "source": [
        "### Question 19:"
      ],
      "metadata": {
        "id": "1VADvMqtSw62"
      }
    },
    {
      "cell_type": "code",
      "source": [
        "newspaper_mean = np.mean(data[:, 2])\n",
        "total_sales = np.sum(data[data[:, 2] > newspaper_mean, -1])\n",
        "print(f\"{total_sales:.1f}\")"
      ],
      "metadata": {
        "colab": {
          "base_uri": "https://localhost:8080/"
        },
        "id": "3VKXSCRHSz0q",
        "outputId": "fa846289-e8b1-4f52-c265-8c6ebf8c0f41"
      },
      "execution_count": 21,
      "outputs": [
        {
          "output_type": "stream",
          "name": "stdout",
          "text": [
            "1405.1\n"
          ]
        }
      ]
    },
    {
      "cell_type": "markdown",
      "source": [
        "### Question 20:"
      ],
      "metadata": {
        "id": "gorwIWLgUPlv"
      }
    },
    {
      "cell_type": "code",
      "source": [
        "sales_mean = np.mean(data[:, -1])\n",
        "scores = np.where(data[:, -1] > sales_mean, 'Good', np.where(data[:, -1] < sales_mean, 'Bad', 'Average'))\n",
        "print(scores[7:10])"
      ],
      "metadata": {
        "colab": {
          "base_uri": "https://localhost:8080/"
        },
        "id": "_B9H65uSUvWT",
        "outputId": "97c66c3d-60e7-470c-c142-ac8297f5c98a"
      },
      "execution_count": 22,
      "outputs": [
        {
          "output_type": "stream",
          "name": "stdout",
          "text": [
            "['Bad' 'Bad' 'Good']\n"
          ]
        }
      ]
    },
    {
      "cell_type": "markdown",
      "source": [
        "### Question 21:"
      ],
      "metadata": {
        "id": "G502vnsBVhAR"
      }
    },
    {
      "cell_type": "code",
      "source": [
        "sales_mean = np.mean(data[:, -1])\n",
        "closest_to_mean = data[np.argmin(np.abs(data[:, -1] - sales_mean)), -1]\n",
        "scores = np.where(data[:, -1] > closest_to_mean, 'Good', np.where(data[:, -1] < closest_to_mean, 'Bad', 'Average'))\n",
        "print(scores[7:10])"
      ],
      "metadata": {
        "colab": {
          "base_uri": "https://localhost:8080/"
        },
        "id": "H1pdqRVkVlU7",
        "outputId": "e0525988-a9f0-4fd2-e73e-44f8e544c907"
      },
      "execution_count": 23,
      "outputs": [
        {
          "output_type": "stream",
          "name": "stdout",
          "text": [
            "['Bad' 'Bad' 'Good']\n"
          ]
        }
      ]
    }
  ]
}