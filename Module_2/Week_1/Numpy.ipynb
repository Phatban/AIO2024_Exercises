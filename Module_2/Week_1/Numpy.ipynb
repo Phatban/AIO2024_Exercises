{
  "cells": [
    {
      "cell_type": "markdown",
      "metadata": {
        "id": "A_DUhH9OK8oe"
      },
      "source": [
        "## **NumPy**\n",
        "*Ngày 6 tháng 7 năm 2024*\n",
        "\n"
      ]
    },
    {
      "cell_type": "markdown",
      "metadata": {
        "id": "imWToKPwLdSu"
      },
      "source": [
        "### **Exercise 1: Basic NumPy**\n"
      ]
    },
    {
      "cell_type": "code",
      "execution_count": 1,
      "metadata": {
        "colab": {
          "base_uri": "https://localhost:8080/"
        },
        "id": "HFleNgj0MDiI",
        "outputId": "90c1a7d4-ac3a-4325-862b-d73a4f8b6efe"
      },
      "outputs": [
        {
          "name": "stdout",
          "output_type": "stream",
          "text": [
            "[0 1 2 3 4 5 6 7 8 9]\n"
          ]
        }
      ],
      "source": [
        "# Question 1:\n",
        "import numpy as np\n",
        "arr = np.arange(0, 10, 1)\n",
        "print(arr)"
      ]
    },
    {
      "cell_type": "code",
      "execution_count": 2,
      "metadata": {
        "colab": {
          "base_uri": "https://localhost:8080/"
        },
        "id": "9V5MPVLmMVKV",
        "outputId": "868bdf33-a199-4a65-eadc-61dd79360ca7"
      },
      "outputs": [
        {
          "name": "stdout",
          "output_type": "stream",
          "text": [
            "[[ True  True  True]\n",
            " [ True  True  True]\n",
            " [ True  True  True]] \n",
            " [[ True  True  True]\n",
            " [ True  True  True]\n",
            " [ True  True  True]] \n",
            " [[ True  True  True]\n",
            " [ True  True  True]\n",
            " [ True  True  True]]\n"
          ]
        }
      ],
      "source": [
        "# Question 2:\n",
        "arr1 = np.ones((3, 3)) > 0\n",
        "arr2 = np.ones((3,3), dtype=bool)\n",
        "arr3 = np.full((3,3), fill_value=True, dtype=bool)\n",
        "print(arr1, '\\n', arr2, '\\n', arr3)"
      ]
    },
    {
      "cell_type": "code",
      "execution_count": 3,
      "metadata": {
        "colab": {
          "base_uri": "https://localhost:8080/"
        },
        "id": "bRm63fCpNKqI",
        "outputId": "0eecd3c3-cdeb-4d96-d771-f2e5db08b8e0"
      },
      "outputs": [
        {
          "name": "stdout",
          "output_type": "stream",
          "text": [
            "[1 3 5 7 9]\n"
          ]
        }
      ],
      "source": [
        "# Question 3:\n",
        "import numpy as np\n",
        "arr = np.arange(0, 10)\n",
        "print(arr[arr % 2 == 1])"
      ]
    },
    {
      "cell_type": "code",
      "execution_count": 4,
      "metadata": {
        "colab": {
          "base_uri": "https://localhost:8080/"
        },
        "id": "mxs0-MjjNVDP",
        "outputId": "8f8b51af-2a3c-43f8-824c-378e44bef5f2"
      },
      "outputs": [
        {
          "name": "stdout",
          "output_type": "stream",
          "text": [
            "[ 0 -1  2 -1  4 -1  6 -1  8 -1]\n"
          ]
        }
      ],
      "source": [
        "# Question 4:\n",
        "import numpy as np\n",
        "arr = np.arange(0, 10)\n",
        "arr[arr % 2 == 1] = -1\n",
        "print(arr)"
      ]
    },
    {
      "cell_type": "code",
      "execution_count": 5,
      "metadata": {
        "colab": {
          "base_uri": "https://localhost:8080/"
        },
        "id": "Qt7FXKlINbNl",
        "outputId": "1f284f3a-906f-40c2-ef0b-06f47aa3da62"
      },
      "outputs": [
        {
          "name": "stdout",
          "output_type": "stream",
          "text": [
            "[[0 1 2 3 4]\n",
            " [5 6 7 8 9]]\n"
          ]
        }
      ],
      "source": [
        "# Question 5:\n",
        "import numpy as np\n",
        "arr = np.arange(10)\n",
        "arr_2d = arr.reshape(2, -1)\n",
        "print(arr_2d)"
      ]
    },
    {
      "cell_type": "code",
      "execution_count": 6,
      "metadata": {
        "colab": {
          "base_uri": "https://localhost:8080/"
        },
        "id": "YKyNfM5nNg3v",
        "outputId": "e5309a93-aaed-4936-b623-8d48c6c704f7"
      },
      "outputs": [
        {
          "name": "stdout",
          "output_type": "stream",
          "text": [
            "Result:\n",
            " [[0 1 2 3 4]\n",
            " [5 6 7 8 9]\n",
            " [1 1 1 1 1]\n",
            " [1 1 1 1 1]]\n"
          ]
        }
      ],
      "source": [
        "# Question 6:\n",
        "import numpy as np\n",
        "arr1 = np.arange(10).reshape(2, -1)\n",
        "arr2 = np.repeat(1, 10).reshape(2, -1)\n",
        "c = np.concatenate([arr1, arr2], axis=0)\n",
        "print(\"Result:\\n\", c)"
      ]
    },
    {
      "cell_type": "code",
      "execution_count": 7,
      "metadata": {
        "colab": {
          "base_uri": "https://localhost:8080/"
        },
        "id": "Ye8rTEnKNo3n",
        "outputId": "3362f716-fed7-434b-e6c5-9531596da01c"
      },
      "outputs": [
        {
          "name": "stdout",
          "output_type": "stream",
          "text": [
            "C = [[0 1 2 3 4 1 1 1 1 1]\n",
            " [5 6 7 8 9 1 1 1 1 1]]\n"
          ]
        }
      ],
      "source": [
        "# Question 7:\n",
        "import numpy as np\n",
        "arr1 = np.arange(10).reshape(2, -1)\n",
        "arr2 = np.repeat(1, 10).reshape(2, -1)\n",
        "c = np.concatenate([arr1, arr2], axis=1)\n",
        "print(\"C =\", c)"
      ]
    },
    {
      "cell_type": "code",
      "execution_count": 8,
      "metadata": {
        "colab": {
          "base_uri": "https://localhost:8080/"
        },
        "id": "9Dz8MISgNwab",
        "outputId": "b523766f-7c5a-4fb5-8170-539f50888f2f"
      },
      "outputs": [
        {
          "name": "stdout",
          "output_type": "stream",
          "text": [
            "[1 1 1 2 2 2 3 3 3]\n",
            "[1 2 3 1 2 3 1 2 3]\n"
          ]
        }
      ],
      "source": [
        "# Question 8:\n",
        "import numpy as np\n",
        "arr = np.array([1, 2, 3])\n",
        "print(np.repeat(arr, 3))\n",
        "print(np.tile(arr, 3))"
      ]
    },
    {
      "cell_type": "code",
      "execution_count": 9,
      "metadata": {
        "colab": {
          "base_uri": "https://localhost:8080/"
        },
        "id": "2Jjq-O4sN9Ka",
        "outputId": "6a48d016-9706-457a-8986-ca45fc4a38f6"
      },
      "outputs": [
        {
          "name": "stdout",
          "output_type": "stream",
          "text": [
            "result [ 6  9 10]\n"
          ]
        }
      ],
      "source": [
        "# Question 9:\n",
        "import numpy as np\n",
        "a = np.array([2, 6, 1, 9, 10, 3, 27])\n",
        "index = np.where((a >= 5) & (a <= 10))\n",
        "print(\"result\", a[index])"
      ]
    },
    {
      "cell_type": "code",
      "execution_count": 10,
      "metadata": {
        "colab": {
          "base_uri": "https://localhost:8080/"
        },
        "id": "PLg8kXjJOECC",
        "outputId": "1edb57e0-f3ab-4659-cfc7-36ce55e0a778"
      },
      "outputs": [
        {
          "name": "stdout",
          "output_type": "stream",
          "text": [
            "[6. 7. 9. 8. 9. 7. 5.]\n"
          ]
        }
      ],
      "source": [
        "# Question 10:\n",
        "import numpy as np\n",
        "\n",
        "def maxx(x, y):\n",
        "    if x >= y:\n",
        "        return x\n",
        "    else:\n",
        "        return y\n",
        "\n",
        "a = np.array([5, 7, 9, 8, 6, 4, 5])\n",
        "b = np.array([6, 3, 4, 8, 9, 7, 1])\n",
        "\n",
        "pair_max = np.vectorize(maxx, otypes=[float])\n",
        "print(pair_max(a, b))"
      ]
    },
    {
      "cell_type": "code",
      "execution_count": 11,
      "metadata": {
        "colab": {
          "base_uri": "https://localhost:8080/"
        },
        "id": "fuW5jiwfOI7-",
        "outputId": "65a1f293-a388-447a-b46e-e47e98296122"
      },
      "outputs": [
        {
          "name": "stdout",
          "output_type": "stream",
          "text": [
            "Result [6 7 9 8 9 7 5]\n"
          ]
        }
      ],
      "source": [
        "# Question 11:\n",
        "import numpy as np\n",
        "\n",
        "a = np.array([5, 7, 9, 8, 6, 4, 5])\n",
        "b = np.array([6, 3, 4, 8, 9, 7, 1])\n",
        "\n",
        "print(\"Result\", np.where(a < b, b, a))"
      ]
    },
    {
      "cell_type": "markdown",
      "metadata": {
        "id": "wkoaaxf_OnB1"
      },
      "source": [
        "## Exercise 2: Image Processing"
      ]
    },
    {
      "cell_type": "code",
      "execution_count": 12,
      "metadata": {
        "colab": {
          "base_uri": "https://localhost:8080/"
        },
        "id": "vTxN93ptPjLr",
        "outputId": "d8ef2358-1bf9-4c53-94d4-fe414fa1707e"
      },
      "outputs": [],
      "source": [
        "import matplotlib.image as mpimg\n",
        "import numpy as np\n",
        "\n",
        "img = mpimg.imread('dog.jpeg')"
      ]
    },
    {
      "cell_type": "code",
      "execution_count": 13,
      "metadata": {
        "colab": {
          "base_uri": "https://localhost:8080/"
        },
        "id": "XtXqJSJhORTZ",
        "outputId": "679da2ec-52a8-4926-bf2d-fd7961fbc28a"
      },
      "outputs": [
        {
          "name": "stdout",
          "output_type": "stream",
          "text": [
            "102.5\n"
          ]
        }
      ],
      "source": [
        "# Question 12:\n",
        "gray_img_01 = (np.max(img, axis=2) + np.min(img, axis=2)) / 2\n",
        "print(gray_img_01[0, 0])"
      ]
    },
    {
      "cell_type": "code",
      "execution_count": 14,
      "metadata": {
        "colab": {
          "base_uri": "https://localhost:8080/"
        },
        "id": "geF9PsERP64A",
        "outputId": "5336022f-6ea8-468e-fd7f-1825d2d9fee6"
      },
      "outputs": [
        {
          "name": "stdout",
          "output_type": "stream",
          "text": [
            "107.66666666666667\n"
          ]
        }
      ],
      "source": [
        "# Question 13:\n",
        "gray_img_02 = np.mean(img, axis=2)\n",
        "print(gray_img_02[0, 0])"
      ]
    },
    {
      "cell_type": "code",
      "execution_count": 15,
      "metadata": {
        "colab": {
          "base_uri": "https://localhost:8080/"
        },
        "id": "a1bQgsL5Qirs",
        "outputId": "7fed5945-4d1e-4cf6-8eee-72d56be61228"
      },
      "outputs": [
        {
          "name": "stdout",
          "output_type": "stream",
          "text": [
            "126.22999999999999\n"
          ]
        }
      ],
      "source": [
        "# Question 14:\n",
        "gray_img_03 = 0.21 * img[:,:,0] + 0.72 * img[:,:,1] + 0.07 * img[:,:,2]\n",
        "print(gray_img_03[0, 0])"
      ]
    },
    {
      "cell_type": "markdown",
      "metadata": {
        "id": "Oox0WmxWRSbF"
      },
      "source": [
        "## Exercise 3: Tabular Data Analysis"
      ]
    },
    {
      "cell_type": "code",
      "execution_count": 16,
      "metadata": {
        "colab": {
          "base_uri": "https://localhost:8080/"
        },
        "id": "cGBaqu2zRper",
        "outputId": "60b635e5-de4c-4e33-e7df-4f6a9e7cd0cd"
      },
      "outputs": [],
      "source": [
        "import pandas as pd\n",
        "import numpy as np\n",
        "\n",
        "df = pd.read_csv('advertising.csv')\n",
        "data = df.to_numpy()"
      ]
    },
    {
      "cell_type": "code",
      "execution_count": 17,
      "metadata": {
        "colab": {
          "base_uri": "https://localhost:8080/"
        },
        "id": "RVf16a_BRotS",
        "outputId": "c3e0bfd9-7d22-409a-dbcf-271057b3051c"
      },
      "outputs": [
        {
          "name": "stdout",
          "output_type": "stream",
          "text": [
            "Max: 27.0 - Index: 175\n"
          ]
        }
      ],
      "source": [
        "# Question 15:\n",
        "max_sales = np.max(data[:, -1])\n",
        "max_index = np.argmax(data[:, -1])\n",
        "print(f\"Max: {max_sales} - Index: {max_index}\")"
      ]
    },
    {
      "cell_type": "code",
      "execution_count": 18,
      "metadata": {
        "colab": {
          "base_uri": "https://localhost:8080/"
        },
        "id": "pP7lrjkrSDXT",
        "outputId": "2ebc45d0-3939-4b53-95fe-1dc727ad7451"
      },
      "outputs": [
        {
          "name": "stdout",
          "output_type": "stream",
          "text": [
            "147.0\n"
          ]
        }
      ],
      "source": [
        "# Question 16:\n",
        "tv_mean = np.mean(data[:, 0])\n",
        "print(f\"{tv_mean:.1f}\")"
      ]
    },
    {
      "cell_type": "code",
      "execution_count": 19,
      "metadata": {
        "colab": {
          "base_uri": "https://localhost:8080/"
        },
        "id": "nXvACOLmSgRA",
        "outputId": "2af16171-1022-4fc6-c1f5-ba87afb42e10"
      },
      "outputs": [
        {
          "name": "stdout",
          "output_type": "stream",
          "text": [
            "40\n"
          ]
        }
      ],
      "source": [
        "# Question 17:\n",
        "count = np.sum(data[:, -1] >= 20)\n",
        "print(count)"
      ]
    },
    {
      "cell_type": "code",
      "execution_count": 20,
      "metadata": {
        "colab": {
          "base_uri": "https://localhost:8080/"
        },
        "id": "ZVKs_TFsTwig",
        "outputId": "79e52fd2-3aa9-48c9-f7ad-35b7c3912111"
      },
      "outputs": [
        {
          "name": "stdout",
          "output_type": "stream",
          "text": [
            "26.2\n"
          ]
        }
      ],
      "source": [
        "# Question 18:\n",
        "radio_mean = np.mean(data[data[:, -1] >= 15, 1])\n",
        "print(f\"{radio_mean:.1f}\")"
      ]
    },
    {
      "cell_type": "code",
      "execution_count": 21,
      "metadata": {
        "colab": {
          "base_uri": "https://localhost:8080/"
        },
        "id": "3VKXSCRHSz0q",
        "outputId": "fa846289-e8b1-4f52-c265-8c6ebf8c0f41"
      },
      "outputs": [
        {
          "name": "stdout",
          "output_type": "stream",
          "text": [
            "1405.1\n"
          ]
        }
      ],
      "source": [
        "# Question 19:\n",
        "newspaper_mean = np.mean(data[:, 2])\n",
        "total_sales = np.sum(data[data[:, 2] > newspaper_mean, -1])\n",
        "print(f\"{total_sales:.1f}\")"
      ]
    },
    {
      "cell_type": "code",
      "execution_count": null,
      "metadata": {
        "colab": {
          "base_uri": "https://localhost:8080/"
        },
        "id": "_B9H65uSUvWT",
        "outputId": "97c66c3d-60e7-470c-c142-ac8297f5c98a"
      },
      "outputs": [],
      "source": [
        "# Question 20:\n",
        "sales_mean = np.mean(data[:, -1])\n",
        "scores = np.where(data[:, -1] > sales_mean, 'Good', np.where(data[:, -1] < sales_mean, 'Bad', 'Average'))\n",
        "# Question 7:print(scores[7:10])"
      ]
    },
    {
      "cell_type": "code",
      "execution_count": 23,
      "metadata": {
        "colab": {
          "base_uri": "https://localhost:8080/"
        },
        "id": "H1pdqRVkVlU7",
        "outputId": "e0525988-a9f0-4fd2-e73e-44f8e544c907"
      },
      "outputs": [
        {
          "name": "stdout",
          "output_type": "stream",
          "text": [
            "['Bad' 'Bad' 'Good']\n"
          ]
        }
      ],
      "source": [
        "# Question 21:\n",
        "sales_mean = np.mean(data[:, -1])\n",
        "closest_to_mean = data[np.argmin(np.abs(data[:, -1] - sales_mean)), -1]\n",
        "scores = np.where(data[:, -1] > closest_to_mean, 'Good', np.where(data[:, -1] < closest_to_mean, 'Bad', 'Average'))\n",
        "print(scores[7:10])"
      ]
    }
  ],
  "metadata": {
    "colab": {
      "provenance": []
    },
    "kernelspec": {
      "display_name": "Python 3",
      "name": "python3"
    },
    "language_info": {
      "codemirror_mode": {
        "name": "ipython",
        "version": 3
      },
      "file_extension": ".py",
      "mimetype": "text/x-python",
      "name": "python",
      "nbconvert_exporter": "python",
      "pygments_lexer": "ipython3",
      "version": "3.12.3"
    }
  },
  "nbformat": 4,
  "nbformat_minor": 0
}
