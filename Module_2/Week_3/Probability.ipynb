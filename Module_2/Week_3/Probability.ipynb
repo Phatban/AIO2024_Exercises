{
 "cells": [
  {
   "cell_type": "markdown",
   "metadata": {},
   "source": [
    "# AI Vietnam - Probability Exercise (Naive Bayes Classifier)"
   ]
  },
  {
   "cell_type": "markdown",
   "metadata": {},
   "source": [
    "## 1. BINARY CLASSIFICATION - PLAY TENNIS (Question 1-4)"
   ]
  },
  {
   "cell_type": "code",
   "execution_count": 3,
   "metadata": {},
   "outputs": [
    {
     "name": "stdout",
     "output_type": "stream",
     "text": [
      "P('Play Tennis' = 'Yes') = 0.6\n",
      "P('Play Tennis' = 'No') = 0.4\n"
     ]
    }
   ],
   "source": [
    "import numpy as np\n",
    "\n",
    "def create_train_data():\n",
    "    data = [\n",
    "        ['Sunny', 'Hot', 'High', 'Weak', 'No'],\n",
    "        ['Sunny', 'Hot', 'High', 'Strong', 'No'],\n",
    "        ['Overcast', 'Hot', 'High', 'Weak', 'Yes'],\n",
    "        ['Rain', 'Mild', 'High', 'Weak', 'Yes'],\n",
    "        ['Rain', 'Cool', 'Normal', 'Weak', 'Yes'],\n",
    "        ['Rain', 'Cool', 'Normal', 'Strong', 'No'],\n",
    "        ['Overcast', 'Cool', 'Normal', 'Strong', 'Yes'],\n",
    "        ['Overcast', 'Mild', 'High', 'Weak', 'No'],\n",
    "        ['Sunny', 'Cool', 'Normal', 'Weak', 'Yes'],\n",
    "        ['Rain', 'Mild', 'Normal', 'Weak', 'Yes']\n",
    "    ]\n",
    "    return np.array(data)\n",
    "\n",
    "train_data = create_train_data()\n",
    "yes_count = np.sum(train_data[:, -1] == 'Yes')\n",
    "no_count = np.sum(train_data[:, -1] == 'No')\n",
    "\n",
    "p_yes = yes_count/len(train_data)\n",
    "p_no = no_count/len(train_data)\n",
    "\n",
    "print(f\"P('Play Tennis' = 'Yes') = {p_yes}\")\n",
    "print(f\"P('Play Tennis' = 'No') = {p_no}\")"
   ]
  },
  {
   "cell_type": "code",
   "execution_count": 4,
   "metadata": {},
   "outputs": [
    {
     "name": "stdout",
     "output_type": "stream",
     "text": [
      "P('Play Tennis' = 'Yes'|X) ∝ 0.0027777777777777775\n",
      "P('Play Tennis' = 'No'|X) ∝ 0.018750000000000003\n",
      "Prediction: No\n"
     ]
    }
   ],
   "source": [
    "def calculate_probability(attribute, value, outcome):\n",
    "    return np.sum((train_data[:, -1] == outcome) & (train_data[:, attribute] == value)) / np.sum(train_data[:, -1] == outcome)\n",
    "\n",
    "X = ['Sunny', 'Cool', 'High', 'Strong']\n",
    "attributes = ['Outlook', 'Temperature', 'Humidity', 'Wind']\n",
    "\n",
    "p_x_given_yes = 1\n",
    "p_x_given_no = 1\n",
    "\n",
    "for i, attr in enumerate(attributes):\n",
    "    p_x_given_yes *= calculate_probability(i, X[i], 'Yes')\n",
    "    p_x_given_no *= calculate_probability(i, X[i], 'No')\n",
    "\n",
    "p_yes_given_x = p_x_given_yes * p_yes\n",
    "p_no_given_x = p_x_given_no * p_no\n",
    "\n",
    "print(f\"P('Play Tennis' = 'Yes'|X) ∝ {p_yes_given_x}\")\n",
    "print(f\"P('Play Tennis' = 'No'|X) ∝ {p_no_given_x}\")\n",
    "print(f\"Prediction: {'Yes' if p_yes_given_x > p_no_given_x else 'No'}\")"
   ]
  },
  {
   "cell_type": "markdown",
   "metadata": {},
   "source": [
    "## 2. MULTI-LABEL CLASSIFICATION - TRAFFIC DATA (Question 5-10)"
   ]
  },
  {
   "cell_type": "code",
   "execution_count": 14,
   "metadata": {},
   "outputs": [
    {
     "name": "stdout",
     "output_type": "stream",
     "text": [
      "P('Class' = 'Cancelled') = 0.05\n",
      "P('Class' = 'Late') = 0.1\n",
      "P('Class' = 'On Time') = 0.7\n",
      "P('Class' = 'Very Late') = 0.15\n"
     ]
    }
   ],
   "source": [
    "def create_traffic_data():\n",
    "    data = [\n",
    "        ['Weekday', 'Spring', 'None', 'None', 'On Time'],\n",
    "        ['Weekday', 'Winter', 'None', 'Slight', 'On Time'],\n",
    "        ['Weekday', 'Winter', 'None', 'None', 'On Time'],\n",
    "        ['Holiday', 'Winter', 'High', 'Slight', 'Late'],\n",
    "        ['Saturday', 'Summer', 'Normal', 'None', 'On Time'],\n",
    "        ['Weekday', 'Autumn', 'Normal', 'None', 'Very Late'],\n",
    "        ['Holiday', 'Summer', 'High', 'Slight', 'On Time'],\n",
    "        ['Sunday', 'Summer', 'Normal', 'None', 'On Time'],\n",
    "        ['Weekday', 'Winter', 'High', 'Heavy', 'Very Late'],\n",
    "        ['Weekday', 'Summer', 'None', 'Slight', 'On Time'],\n",
    "        ['Saturday', 'Spring', 'High', 'Heavy', 'Cancelled'],\n",
    "        ['Weekday', 'Summer', 'High', 'Slight', 'On Time'],\n",
    "        ['Weekday', 'Winter', 'Normal', 'None', 'Late'],\n",
    "        ['Weekday', 'Summer', 'High', 'None', 'On Time'],\n",
    "        ['Weekday', 'Winter', 'Normal', 'Heavy', 'Very Late'],\n",
    "        ['Saturday', 'Autumn', 'High', 'Slight', 'On Time'],\n",
    "        ['Weekday', 'Autumn', 'None', 'Heavy', 'On Time'],\n",
    "        ['Holiday', 'Spring', 'Normal', 'Slight', 'On Time'],\n",
    "        ['Weekday', 'Spring', 'Normal', 'None', 'On Time'],\n",
    "        ['Weekday', 'Spring', 'Normal', 'Heavy', 'On Time']\n",
    "    ]\n",
    "    return np.array(data)\n",
    "\n",
    "traffic_data = create_traffic_data()\n",
    "classes, counts = np.unique(traffic_data[:, -1], return_counts=True)\n",
    "probabilities = counts / len(traffic_data)\n",
    "\n",
    "for cls, prob in zip(classes, probabilities):\n",
    "    print(f\"P('Class' = '{cls}') = {prob}\")"
   ]
  },
  {
   "cell_type": "code",
   "execution_count": 26,
   "metadata": {},
   "outputs": [
    {
     "name": "stdout",
     "output_type": "stream",
     "text": [
      "P('Class' = 'Cancelled' | X) ∝ 0.0\n",
      "P('Class' = 'Late' | X) ∝ 0.0\n",
      "P('Class' = 'On Time' | X) ∝ 0.0026239067055393583\n",
      "P('Class' = 'Very Late' | X) ∝ 0.022222222222222216\n",
      "Predicted class: Very Late\n"
     ]
    }
   ],
   "source": [
    "X = ['Weekday', 'Winter', 'High', 'Heavy']\n",
    "\n",
    "def calculate_probability(attribute, value, outcome):\n",
    "    return np.sum((traffic_data[:, -1] == outcome) & (traffic_data[:, attribute] == value)) / np.sum(traffic_data[:, -1] == outcome)\n",
    "\n",
    "for cls in classes:\n",
    "    p = probabilities[np.where(classes == cls)[0][0]]\n",
    "    for i, attr in enumerate(X):\n",
    "        p *= calculate_probability(i, attr, cls)\n",
    "    print(f\"P('Class' = '{cls}' | X) ∝ {p}\")\n",
    "\n",
    "prediction = classes[np.argmax([calculate_probability(i, attr, cls) for i, attr in enumerate(X) for cls in classes])]\n",
    "print(f\"Predicted class: {prediction}\")"
   ]
  },
  {
   "cell_type": "markdown",
   "metadata": {},
   "source": [
    "## 3. IRIS CLASSIFICATION (Question 11-13)"
   ]
  },
  {
   "cell_type": "code",
   "execution_count": 24,
   "metadata": {},
   "outputs": [
    {
     "name": "stdout",
     "output_type": "stream",
     "text": [
      "Class 0: mean = 1.5666666666666667, variance = 0.1288888888888889\n",
      "Class 1: mean = 3.733333333333333, variance = 0.1722222222222222\n"
     ]
    }
   ],
   "source": [
    "from scipy.stats import norm\n",
    "\n",
    "iris_data = np.array([\n",
    "    [1.4, 0], [1.0, 0], [1.3, 0], [1.9, 0], [2.0, 0], [1.8, 0],\n",
    "    [3.0, 1], [3.8, 1], [4.1, 1], [3.9, 1], [4.2, 1], [3.4, 1]\n",
    "])\n",
    "\n",
    "class_0 = iris_data[iris_data[:, 1] == 0][:, 0]\n",
    "class_1 = iris_data[iris_data[:, 1] == 1][:, 0]\n",
    "\n",
    "mean_0, var_0 = np.mean(class_0), np.var(class_0)\n",
    "mean_1, var_1 = np.mean(class_1), np.var(class_1)\n",
    "\n",
    "print(f\"Class 0: mean = {mean_0}, variance = {var_0}\")\n",
    "print(f\"Class 1: mean = {mean_1}, variance = {var_1}\")"
   ]
  },
  {
   "cell_type": "code",
   "execution_count": 25,
   "metadata": {},
   "outputs": [
    {
     "name": "stdout",
     "output_type": "stream",
     "text": [
      "P('Class' = '0' | X) = 1.2080820590230566e-06\n",
      "P('Class' = '1' | X) = 0.34812922367906424\n"
     ]
    }
   ],
   "source": [
    "X = 3.4\n",
    "p_0 = norm.pdf(X, mean_0, np.sqrt(var_0)) * (len(class_0) / len(iris_data))\n",
    "p_1 = norm.pdf(X, mean_1, np.sqrt(var_1)) * (len(class_1) / len(iris_data))\n",
    "\n",
    "print(f\"P('Class' = '0' | X) = {p_0}\")\n",
    "print(f\"P('Class' = '1' | X) = {p_1}\")"
   ]
  },
  {
   "cell_type": "markdown",
   "metadata": {},
   "source": [
    "## 4. PLAY TENNIS CLASSIFIER IMPLEMENTATION (Question 14-19)"
   ]
  },
  {
   "cell_type": "code",
   "execution_count": 36,
   "metadata": {},
   "outputs": [],
   "source": [
    "def create_train_data():\n",
    "    data = [\n",
    "        ['Sunny', 'Hot', 'High', 'Weak', 'No'],\n",
    "        ['Sunny', 'Hot', 'High', 'Strong', 'No'],\n",
    "        ['Overcast', 'Hot', 'High', 'Weak', 'Yes'],\n",
    "        ['Rain', 'Mild', 'High', 'Weak', 'Yes'],\n",
    "        ['Rain', 'Cool', 'Normal', 'Weak', 'Yes'],\n",
    "        ['Rain', 'Cool', 'Normal', 'Strong', 'No'],\n",
    "        ['Overcast', 'Cool', 'Normal', 'Strong', 'Yes'],\n",
    "        ['Overcast', 'Mild', 'High', 'Weak', 'No'],\n",
    "        ['Sunny', 'Cool', 'Normal', 'Weak', 'Yes'],\n",
    "        ['Rain', 'Mild', 'Normal', 'Weak', 'Yes']\n",
    "    ]\n",
    "    return np.array(data)\n",
    "\n",
    "train_data = create_train_data()"
   ]
  },
  {
   "cell_type": "code",
   "execution_count": 35,
   "metadata": {},
   "outputs": [
    {
     "name": "stdout",
     "output_type": "stream",
     "text": [
      "Prior probabilities:\n",
      "P('Play Tennis' = 'No') = 0.4\n",
      "P('Play Tennis' = 'Yes') = 0.6\n"
     ]
    }
   ],
   "source": [
    "def compute_prior_probability(train_data):\n",
    "    y_unique = ['No', 'Yes']\n",
    "    prior_probability = np.zeros(len(y_unique))\n",
    "    for i, y in enumerate(y_unique):\n",
    "        prior_probability[i] = np.sum(train_data[:, -1] == y) / len(train_data)\n",
    "    return prior_probability\n",
    "\n",
    "prior_probability, conditional_probability, list_x_name = train_naive_bayes(train_data)\n",
    "\n",
    "print(\"Prior probabilities:\")\n",
    "print(f\"P('Play Tennis' = 'No') = {prior_probability[0]}\")\n",
    "print(f\"P('Play Tennis' = 'Yes') = {prior_probability[1]}\")"
   ]
  },
  {
   "cell_type": "code",
   "execution_count": 38,
   "metadata": {},
   "outputs": [
    {
     "name": "stdout",
     "output_type": "stream",
     "text": [
      "Conditional probabilities:\n",
      "\n",
      "Outlook:\n",
      "P('Outlook'='Overcast' | 'Play Tennis'='No') = 0.25\n",
      "P('Outlook'='Overcast' | 'Play Tennis'='Yes') = 0.33\n",
      "P('Outlook'='Rain' | 'Play Tennis'='No') = 0.25\n",
      "P('Outlook'='Rain' | 'Play Tennis'='Yes') = 0.50\n",
      "P('Outlook'='Sunny' | 'Play Tennis'='No') = 0.50\n",
      "P('Outlook'='Sunny' | 'Play Tennis'='Yes') = 0.17\n",
      "\n",
      "Temperature:\n",
      "P('Temperature'='Cool' | 'Play Tennis'='No') = 0.25\n",
      "P('Temperature'='Cool' | 'Play Tennis'='Yes') = 0.50\n",
      "P('Temperature'='Hot' | 'Play Tennis'='No') = 0.50\n",
      "P('Temperature'='Hot' | 'Play Tennis'='Yes') = 0.17\n",
      "P('Temperature'='Mild' | 'Play Tennis'='No') = 0.25\n",
      "P('Temperature'='Mild' | 'Play Tennis'='Yes') = 0.33\n",
      "\n",
      "Humidity:\n",
      "P('Humidity'='High' | 'Play Tennis'='No') = 0.75\n",
      "P('Humidity'='High' | 'Play Tennis'='Yes') = 0.33\n",
      "P('Humidity'='Normal' | 'Play Tennis'='No') = 0.25\n",
      "P('Humidity'='Normal' | 'Play Tennis'='Yes') = 0.67\n",
      "\n",
      "Wind:\n",
      "P('Wind'='Strong' | 'Play Tennis'='No') = 0.50\n",
      "P('Wind'='Strong' | 'Play Tennis'='Yes') = 0.17\n",
      "P('Wind'='Weak' | 'Play Tennis'='No') = 0.50\n",
      "P('Wind'='Weak' | 'Play Tennis'='Yes') = 0.83\n"
     ]
    }
   ],
   "source": [
    "def compute_conditional_probability(train_data):\n",
    "    y_unique = ['No', 'Yes']\n",
    "    conditional_probability = []\n",
    "    list_x_name = []\n",
    "    for i in range(train_data.shape[1] - 1):\n",
    "        x_unique = np.unique(train_data[:, i])\n",
    "        list_x_name.append(x_unique)\n",
    "        x_conditional_probability = np.zeros((len(y_unique), len(x_unique)))\n",
    "        for j, y in enumerate(y_unique):\n",
    "            for k, x in enumerate(x_unique):\n",
    "                x_conditional_probability[j, k] = np.sum((train_data[:, i] == x) & (train_data[:, -1] == y)) / np.sum(train_data[:, -1] == y)\n",
    "        conditional_probability.append(x_conditional_probability)\n",
    "    return conditional_probability, list_x_name\n",
    "\n",
    "print(\"Conditional probabilities:\")\n",
    "for i, feature in enumerate(['Outlook', 'Temperature', 'Humidity', 'Wind']):\n",
    "    print(f\"\\n{feature}:\")\n",
    "    for j, value in enumerate(list_x_name[i]):\n",
    "        print(f\"P('{feature}'='{value}' | 'Play Tennis'='No') = {conditional_probability[i][0, j]:.2f}\")\n",
    "        print(f\"P('{feature}'='{value}' | 'Play Tennis'='Yes') = {conditional_probability[i][1, j]:.2f}\")"
   ]
  },
  {
   "cell_type": "code",
   "execution_count": 30,
   "metadata": {},
   "outputs": [],
   "source": [
    "def get_index_from_value(feature_name, list_features):\n",
    "    return np.where(list_features == feature_name)[0][0]"
   ]
  },
  {
   "cell_type": "code",
   "execution_count": 31,
   "metadata": {},
   "outputs": [],
   "source": [
    "def train_naive_bayes(train_data):\n",
    "    prior_probability = compute_prior_probability(train_data)\n",
    "    conditional_probability, list_x_name = compute_conditional_probability(train_data)\n",
    "    return prior_probability, conditional_probability, list_x_name"
   ]
  },
  {
   "cell_type": "code",
   "execution_count": 41,
   "metadata": {},
   "outputs": [
    {
     "name": "stdout",
     "output_type": "stream",
     "text": [
      "Prediction for ['Sunny', 'Cool', 'High', 'Strong']: Ad should not go!\n"
     ]
    }
   ],
   "source": [
    "def prediction_play_tennis(X, list_x_name, prior_probability, conditional_probability):\n",
    "    x1 = get_index_from_value(X[0], list_x_name[0])\n",
    "    x2 = get_index_from_value(X[1], list_x_name[1])\n",
    "    x3 = get_index_from_value(X[2], list_x_name[2])\n",
    "    x4 = get_index_from_value(X[3], list_x_name[3])\n",
    "    \n",
    "    p0 = prior_probability[0] * conditional_probability[0][0, x1] * conditional_probability[1][0, x2] * conditional_probability[2][0, x3] * conditional_probability[3][0, x4]\n",
    "    p1 = prior_probability[1] * conditional_probability[0][1, x1] * conditional_probability[1][1, x2] * conditional_probability[2][1, x3] * conditional_probability[3][1, x4]\n",
    "    \n",
    "    return 1 if p1 > p0 else 0\n",
    "\n",
    "X = ['Sunny', 'Cool', 'High', 'Strong']\n",
    "pred = prediction_play_tennis(X, list_x_name, prior_probability, conditional_probability)\n",
    "print(f\"Prediction for {X}: {'Ad should go!' if pred else 'Ad should not go!'}\")"
   ]
  }
 ],
 "metadata": {
  "kernelspec": {
   "display_name": "Python 3",
   "language": "python",
   "name": "python3"
  },
  "language_info": {
   "codemirror_mode": {
    "name": "ipython",
    "version": 3
   },
   "file_extension": ".py",
   "mimetype": "text/x-python",
   "name": "python",
   "nbconvert_exporter": "python",
   "pygments_lexer": "ipython3",
   "version": "3.12.3"
  }
 },
 "nbformat": 4,
 "nbformat_minor": 2
}
